{
 "cells": [
  {
   "cell_type": "markdown",
   "metadata": {},
   "source": [
    "# Gráfico de área"
   ]
  },
  {
   "cell_type": "markdown",
   "metadata": {},
   "source": [
    "### Introducción"
   ]
  },
  {
   "cell_type": "markdown",
   "metadata": {},
   "source": [
    "Lo gráficos de área suelen ser poco común, pero su implementación puede resultar últil cuando queremos reforzar el concepto de lo mucho que cubre la subida de uno o varios datos.<br>\n",
    "&nbsp; &nbsp; Éste gráfico es muy parecido al gráfico lineal, solo que el color de la linea rellenará el área debajo de la linea. Si bien este gráfico no es muy recomendado por su poca sencillez para solo mostrar los ascensos o descensos, puede ser de utilidad si se quiere enfatizar como los costos incurridos en una organización."
   ]
  },
  {
   "cell_type": "markdown",
   "metadata": {},
   "source": [
    "Para comenzar importaremos las bibliotecas del tutorial anterior <b><i>Matplotlib</i></b>, <b><i>Pandas</i></b> y <b><i>Numpy</i></b>. Y pondremos la linea de código <b><i>%matplotlib inline</i></b> para que se ejecute el gráfico al ejecutar la sentencia."
   ]
  },
  {
   "cell_type": "code",
   "execution_count": null,
   "metadata": {},
   "outputs": [],
   "source": [
    "import matplotlib.pyplot as plt # gráficos\n",
    "import pandas as pd # datos\n",
    "import numpy as np # operaciones\n",
    "%matplotlib inline"
   ]
  },
  {
   "cell_type": "markdown",
   "metadata": {},
   "source": [
    "En esta ocasión revisaremos los datos sobre el crecimiento de la <b>población mundial</b> del año <b>1960</b> al <b>2017</b>. Tomados directamente del banco mundial de la siguiente liga: http://api.worldbank.org/v2/es/indicator/SP.POP.TOTL?downloadformat=excel , la cual asignaremos a la variable <b><i>df_pob</i></b> para su manipulación posterior. E igual que la otra vez, tomaremos la información de la hoja <b>Data</b> y nos saltaremos tres filas con información no relevante dentro del <b>Excel</b>."
   ]
  },
  {
   "cell_type": "code",
   "execution_count": null,
   "metadata": {},
   "outputs": [],
   "source": [
    "df_pob = pd.read_excel('http://api.worldbank.org/v2/es/indicator/SP.POP.TOTL?downloadformat=excel', # link \n",
    "                      sheet_name = \"Data\", # hoja\n",
    "                      skiprows = range(3), # brinco\n",
    "                      #skipfooter = 2  salto de pie\n",
    "                            )"
   ]
  },
  {
   "cell_type": "markdown",
   "metadata": {},
   "source": [
    "Ahora comprobaremos las dimensiones del <b>Data Frame</b>, y veremos si la información se tomo de manera correcta visualizando las 7 primeras filas con la propiedad <b><i>.shape</i></b> y  el método <b><i>.head()</i></b> respectivamente.<br><br>\n",
    "\\*Nota: el método head puede tomar de parámetro un número para demostrar las filas que queramos obtener, el parámetro <b>default es 5</b>."
   ]
  },
  {
   "cell_type": "code",
   "execution_count": null,
   "metadata": {},
   "outputs": [],
   "source": [
    "print(df_pob.shape)\n",
    "df_pob.head(7)"
   ]
  },
  {
   "cell_type": "markdown",
   "metadata": {},
   "source": [
    "Se observa que esta vez solo tenemos tres columnas con información irrelevante que son <b>Country Code</b>, <b>Indicator Name</b> e <b>Indicator Code</b> a lo cual eliminaremos con el método <b><i>.drop()</i></b>."
   ]
  },
  {
   "cell_type": "code",
   "execution_count": null,
   "metadata": {},
   "outputs": [],
   "source": [
    "df_pob.drop([\"Country Code\", \"Indicator Name\", \"Indicator Code\" ], axis=1, inplace=True)\n",
    "df_pob.head()"
   ]
  },
  {
   "cell_type": "markdown",
   "metadata": {},
   "source": [
    "Si bien vemos que nuestro <b>Data Frame</b> ya está listo para ser usado, utilizaremos el método <b><i>.isnull().sum()</i></b> para visualizar realmene si todos nuestros datos se encuentran rellenos."
   ]
  },
  {
   "cell_type": "code",
   "execution_count": null,
   "metadata": {},
   "outputs": [],
   "source": [
    "df_pob.isnull().sum()"
   ]
  },
  {
   "cell_type": "markdown",
   "metadata": {},
   "source": [
    "Como podemos ver, se encuentran algunas filas con datos nulos (muy pocas para 264 paises, pero que aún así nos pueden dar información sesgada si se trata de hacer un análisis con todos los datos. Por lo cual volveremos a eliminar los nulos con el método <b><i>.dropna(inplace=True)</i></b> y ejecutaremos de nuevo el conteo de nulos para ver si se realizó exitosamente, junto con <b><i>.shape</i></b> para ver el número nuevo de paises con los que se cuenta."
   ]
  },
  {
   "cell_type": "code",
   "execution_count": null,
   "metadata": {},
   "outputs": [],
   "source": [
    "df_pob.dropna(inplace=True)\n",
    "print(df_pob.isnull().sum())\n",
    "print(df_pob.shape)"
   ]
  },
  {
   "cell_type": "markdown",
   "metadata": {},
   "source": [
    "Los paises se han reducido a un número de 258, los cuales ya casi están listos para ser utilizados. Solo por último cambiaremos el nombre de la columna <b>Country Name</b> a <b>País</b> (porque somos hispanoparlantes), lo pondremos como índice del <b>Data Frame</b>, y cambiaremos el tipo de dato de las columnas de los <b>Años</b> del tipo <b>String</b> a <b>Int</b>; Todo con los métodos <b><i>.rename()</i></b>, <b><i>.set_index</i></b> y la propiedad<b><i>.columns</i></b> respectiamente."
   ]
  },
  {
   "cell_type": "code",
   "execution_count": null,
   "metadata": {},
   "outputs": [],
   "source": [
    "df_pob.rename(columns={'Country Name':'País'}, inplace=True)\n",
    "df_pob.set_index('País', inplace=True)\n",
    "df_pob.columns = list(map(int, df_pob.columns))"
   ]
  },
  {
   "cell_type": "markdown",
   "metadata": {},
   "source": [
    "Antes de cometer un error, asignaremos <b>5 paises</b> a un nuevo <b>Data Frame</b> para la visualización correcta del gráfico. Los cuales serán <b>Argentina</b>, <b>España</b>, <b>Belice</b>, <b>Chile</b> y <b>Australia</b>, con datos de todos los años (1960 a 2017)."
   ]
  },
  {
   "cell_type": "code",
   "execution_count": null,
   "metadata": {},
   "outputs": [],
   "source": [
    "years = range(1960, 2018)\n",
    "countries = ['Argentina', 'España', 'Belice', 'Chile', 'Australia']\n",
    "df_AEBCA = df_pob.loc[countries, years]\n",
    "df_AEBCA.head()"
   ]
  },
  {
   "cell_type": "markdown",
   "metadata": {},
   "source": [
    "El útimo paso a realizar, antes de la graficación, es el hacer la <b>transpuesta</b> de la matriz para la visualización del gráfico. Todo con ayuda del método <b><i>.transpose()</i></b>."
   ]
  },
  {
   "cell_type": "code",
   "execution_count": null,
   "metadata": {},
   "outputs": [],
   "source": [
    "df_AEBCA = df_AEBCA.transpose()"
   ]
  },
  {
   "cell_type": "markdown",
   "metadata": {},
   "source": [
    "Ahora si, utilizaremos el mismo método de <b><i>.plot</i></b> para la creación del gráfico, a los cuales les pasaremos el parámetro <b>kind='area'</b> para que se sea un gráfico de área, <b>alpha=.25</b> para que la transparencia de los colores sea mayor, <b>stacked=False</b>, para que el gráfico no se sobreponga, y <b>figsize=(20,10)</b> para que tenga una altura de 20 y un ancho de 10 para una mejor resolución."
   ]
  },
  {
   "cell_type": "code",
   "execution_count": null,
   "metadata": {},
   "outputs": [],
   "source": [
    "df_AEBCA.plot(kind='area', \n",
    "             alpha = .25,\n",
    "             stacked=False,\n",
    "             figsize=(20, 10), # pass a tuple (x, y) size\n",
    "             )\n",
    "\n",
    "plt.title('Tendencia de crecimiento de población de Argentina, España, Belice, Chile y Australia de 1960 a 2017')\n",
    "plt.ylabel('Crecimiento de población')\n",
    "plt.xlabel('Años')"
   ]
  },
  {
   "cell_type": "markdown",
   "metadata": {},
   "source": [
    "### ¿Notas algo raro?"
   ]
  },
  {
   "cell_type": "markdown",
   "metadata": {},
   "source": [
    "Si bien se ve el gráfico con su tendencia al alza de los 5 paises, la etiqueta del eje de <b>y</b> nos demuestra solo los números del 0 al 5, lo cual es ilógico al contar con datos de decenas de millón. Por lo cual se transformarán los datos de las filas a unidades más bajas lo cual será realizando una simple división entre <b>un millón</b> para que sean datos menores. Pero claro, primero tendremos que tranponerla primero si queremos poder manejarla correctamente"
   ]
  },
  {
   "cell_type": "code",
   "execution_count": null,
   "metadata": {},
   "outputs": [],
   "source": [
    "df_AEBCA = df_AEBCA.transpose()\n",
    "df_AEBCA /= 1000000\n",
    "df_AEBCA.head()"
   ]
  },
  {
   "cell_type": "markdown",
   "metadata": {},
   "source": [
    "Como podemos observar, los datos se han reducido a una expresión más facil de leer para los humanos. Por lo tanto se volverá a crear el gráfico de area del <b>Data Frame</b>, solo modificando la etiqueta del eje <b>y</b> para que vaya más acorde con la nueva serie de datos. Pero antes transponerlo."
   ]
  },
  {
   "cell_type": "code",
   "execution_count": null,
   "metadata": {},
   "outputs": [],
   "source": [
    "df_AEBCA = df_AEBCA.transpose()"
   ]
  },
  {
   "cell_type": "code",
   "execution_count": null,
   "metadata": {},
   "outputs": [],
   "source": [
    "df_AEBCA.plot(kind='area', \n",
    "             alpha = .25,\n",
    "             stacked=False,\n",
    "             figsize=(20, 10), # pass a tuple (x, y) size\n",
    "             )\n",
    "\n",
    "plt.title('Tendencia de crecimiento de población de Argentina, España, Belice, Chile y Australia de 1960 a 2017')\n",
    "plt.ylabel('Crecimiento de población (en millones de habitantes)')\n",
    "plt.xlabel('Años')"
   ]
  },
  {
   "cell_type": "markdown",
   "metadata": {},
   "source": [
    "Ahora si el gráfico va más acorde con los datos que cuenta el <b>Data Frame</b>.<br><br>\n",
    "Como se puede observar en el misma, <b>España</b> junto con <b>Argentina</b> han tenido un crecimiento demasiado inmenso en estos 57 años del gráfico. Mientras que tanto <b>Australia</b> como <b>Chile</b> han tenido un crecimiento menor pero constante al alza.<br><br>\n",
    "Antes de acabar, por si te preguntaste <b>\"¿Dónde quedó Belice en el gráfico?\"</b>, se encuentra en la parte más baja del gráfico casi inperceptible, ya que si se revisas los datos de nueva cuenta del <b>Data Frame</b> notarás que no es significativo su crecimiento y está en puntos decimales a comparación de los crecimientos de uno o dos dígitos de los otros paises."
   ]
  }
 ],
 "metadata": {
  "kernelspec": {
   "display_name": "Python 3",
   "language": "python",
   "name": "python3"
  },
  "language_info": {
   "codemirror_mode": {
    "name": "ipython",
    "version": 3
   },
   "file_extension": ".py",
   "mimetype": "text/x-python",
   "name": "python",
   "nbconvert_exporter": "python",
   "pygments_lexer": "ipython3",
   "version": "3.7.1"
  }
 },
 "nbformat": 4,
 "nbformat_minor": 2
}
