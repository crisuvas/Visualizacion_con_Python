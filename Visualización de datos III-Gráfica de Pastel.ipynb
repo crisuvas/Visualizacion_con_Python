{
 "cells": [
  {
   "cell_type": "markdown",
   "metadata": {},
   "source": [
    "# Gráfica de Pastel"
   ]
  },
  {
   "cell_type": "markdown",
   "metadata": {},
   "source": [
    "### Introducción"
   ]
  },
  {
   "cell_type": "markdown",
   "metadata": {},
   "source": [
    "La gráfica de pastel es una herramienta de visualización muy poderosa, ya que ésta nos muestra un comparativa de datos entre diferentes columnas de manera muy fácil.<br>\n",
    "A comparación del gráfico lineal o de área, ésta tiene la cualidad de que se centra en un temporalidad específica, ya que compara los datos en general para sumarlos. En cambio las otras mostraban mostraban un avance a través del tiempo"
   ]
  },
  {
   "cell_type": "markdown",
   "metadata": {},
   "source": [
    "Como es usual, empezaremos importando nuestras librerías de las otras dos clases anteriores."
   ]
  },
  {
   "cell_type": "code",
   "execution_count": null,
   "metadata": {},
   "outputs": [],
   "source": [
    "import matplotlib.pyplot as plt # gráficos\n",
    "import pandas as pd # datos\n",
    "import numpy as np # operaciones\n",
    "%matplotlib inline"
   ]
  },
  {
   "cell_type": "markdown",
   "metadata": {},
   "source": [
    "Ahora descargaremos el <b>Data Frame</b> (para guardarlo en la variable <b><i>df_pib</i></b>) del <b>Banco Mundial</b> , el cual contiene información sobre el crecimiento del PIB mundial del año <b>1961</b> a <b>2017</b>. El cual contiene la información, como en las clases anteriores, en la hoja llamada <b>Data</b>. "
   ]
  },
  {
   "cell_type": "code",
   "execution_count": null,
   "metadata": {},
   "outputs": [],
   "source": [
    "df_pib = pd.read_excel('http://api.worldbank.org/v2/es/indicator/NY.GDP.MKTP.KD.ZG?downloadformat=excel', # link \n",
    "                      sheet_name = \"Data\", # hoja\n",
    "                      skiprows = range(3), # brinco\n",
    "                      )"
   ]
  },
  {
   "cell_type": "markdown",
   "metadata": {},
   "source": [
    "A continuación realizaremos la comprobación de la información importada, para lo cual utilizaremos la propiedad <b><i>.shape</i></b>, para ver las dimensiones; Y el método <b><i>.tail()</i></b>, para variar un poco."
   ]
  },
  {
   "cell_type": "code",
   "execution_count": null,
   "metadata": {
    "scrolled": true
   },
   "outputs": [],
   "source": [
    "print(df_pib.shape)\n",
    "df_pib.tail()"
   ]
  },
  {
   "cell_type": "markdown",
   "metadata": {},
   "source": [
    "Vemos que la información de las columnas <b>Country Code</b>, <b>Indicator Name</b> e <b>Indicator Code</b> nos vuelve a dar información que no nos sirve. Pero a ésto se le ha agregado la columna de <b>1960</b> la cual contiene valores nulos. Por lo cual procederemos a eliminar a las 4 con el método <b><i>.drop()</i></b>. Y visualizaremos el resultado.\n"
   ]
  },
  {
   "cell_type": "code",
   "execution_count": null,
   "metadata": {},
   "outputs": [],
   "source": [
    "columns_to_drop = [\"Country Code\", \"Indicator Name\", \"Indicator Code\", \"1960\"]\n",
    "df_pib.drop(columns_to_drop, axis=1, inplace=True)\n",
    "df_pib.head()"
   ]
  },
  {
   "cell_type": "markdown",
   "metadata": {},
   "source": [
    "### ¿Pero qué está sucediendo?"
   ]
  },
  {
   "cell_type": "markdown",
   "metadata": {},
   "source": [
    "Al utilizar el método <b><i>.head()</i></b>, en vez de <b><i>.tail()</i></b> nos ha hecho ver que en otros paises no se encuentra registrado el <b>Producto Interno Bruto</b> (PIB), y lo que es peor, que en paises como <b>Arubia</b> ha dejado de informar su crecimiento a partir de 2010. Por lo cual nos saltaremos varias partes de otros tutoriales, para asignar a los países como índices, pero cambiando primero el nombre de <b>Country Name</b> por <b>País</b>, y las columnas a tipo <b>Int</b>."
   ]
  },
  {
   "cell_type": "code",
   "execution_count": null,
   "metadata": {},
   "outputs": [],
   "source": [
    "df_pib.rename(columns={'Country Name':'País'}, inplace=True)\n",
    "df_pib.set_index('País', inplace=True)\n",
    "df_pib.columns = list(map(int, df_pib.columns))"
   ]
  },
  {
   "cell_type": "markdown",
   "metadata": {},
   "source": [
    "Ahora iremos directamente a escoger los paises que formarán parte de nuestro <b>Data Frame</b> para la visualización de la <b>Gráfica de Pastel</b>. Los cuales serán <b>Estados Unidos</b>, <b>Venezuela</b>, <b>Francia</b>, <b>Japón</b>, <b>Colombia</b> y <b>Croacia</b>"
   ]
  },
  {
   "cell_type": "code",
   "execution_count": null,
   "metadata": {},
   "outputs": [],
   "source": [
    "countries = [\"Estados Unidos\", \"Venezuela\", \"Francia\", \"Japón\", \"Colombia\", \"Croacia\"] \n",
    "years = range(1961, 2018)\n",
    "df_EVFJCC = df_pib.loc[countries, years]\n",
    "df_EVFJCC.head(6)"
   ]
  },
  {
   "cell_type": "markdown",
   "metadata": {},
   "source": [
    "A simplevista podemos notar que <b>Croacia</b> vuelve a salir con valores negativos que intentamos escapar al realizar  nuestro análisis, y que <b>Venezuela</b> dejó de reportar su crecimiento al Banco mundial a partir de 2015. Por lo cual eliminaremos esas columnas, pero antes haciendo una validación de los datos que no podemos ver con los métodos <b><i>.isnull().sum()</i></b>."
   ]
  },
  {
   "cell_type": "code",
   "execution_count": null,
   "metadata": {},
   "outputs": [],
   "source": [
    "df_EVFJCC.isnull().sum()"
   ]
  },
  {
   "cell_type": "markdown",
   "metadata": {},
   "source": [
    "Al parecer contamos con un país que no cuenta con registros hasta el año <b>1995</b> y <b>Venezuela</b> no cuenta con datos de 2015 a 2017. Por lo que quitaremos los años nulos con el método  <b><i>.dropna()</i></b> y pasandolo los parámetros <b>axis=1</b> (para referirnos a las columnas) e <b>inplace=True</b>"
   ]
  },
  {
   "cell_type": "code",
   "execution_count": null,
   "metadata": {},
   "outputs": [],
   "source": [
    "df_EVFJCC.dropna(axis=1, inplace=True)\n",
    "df_EVFJCC.head(6)"
   ]
  },
  {
   "cell_type": "markdown",
   "metadata": {},
   "source": [
    "Como se puede ver, tenemos ahora un <b>Data Frame</b> que cuenta con valores del año <b>1996</b> al <b>2014</b>. Pero al ser un <b>Gráfico de Pastel</b> deberemos tomar una columna representativa a los 6 paises. Pero para ello no la escogeremos de los datos que se tienen, sino que crearemos una nueva columna con ayuda del método <b><i>.sum()</i></b> y con el parámetro <b>axis=1</b> como se muestra a continuación."
   ]
  },
  {
   "cell_type": "code",
   "execution_count": null,
   "metadata": {},
   "outputs": [],
   "source": [
    "df_EVFJCC['Total'] = df_EVFJCC.sum(axis=1)\n",
    "df_EVFJCC.head(6)"
   ]
  },
  {
   "cell_type": "markdown",
   "metadata": {},
   "source": [
    "Podemos apreciar que se ha creado una columna al final con la suma de la tasa del crecimiento del <b>PIB</b> del año 1995 a 2014. La cuál utilizaremos nuestra creaón del gráfico. Cabe resaltar que ésta vez no realizaremos la transpuesta del <b>Data Frame</b> ya que eligiremos el índice <b>País</b> como nuestras etiquetas.<br><br>\n",
    "Utilizaremos de nuevo el método <b><i>.plot()</i></b> para la creación del gráfico, y los parámetros <b>kind=\"pie\"</b> para decir que es un gráfico de pastel, <b>figsize=(10,8)</b> para el tamaño del gráfico, <b>autopct=\"%1.1f%%\"</b> para poner etiquetas de porcentaje dentro de cada porción, <b>startangle=90</b> para que la primer linea comience 90° antes del ángulo 0° (cuestión de estética) y <b>shadow=True</b> para que nos muestre una sombra en la figura."
   ]
  },
  {
   "cell_type": "code",
   "execution_count": null,
   "metadata": {},
   "outputs": [],
   "source": [
    "df_EVFJCC['Total'].plot(kind=\"pie\",\n",
    "               figsize=(10,8),\n",
    "               autopct=\"%1.1f%%\",\n",
    "               startangle=90,\n",
    "               shadow=True\n",
    "              )\n",
    "plt.title(\"Crecimiento acumulado del PIB de  1996 a 2015\")\n",
    "plt.axis(\"equal\") # sirve para estética"
   ]
  },
  {
   "cell_type": "markdown",
   "metadata": {},
   "source": [
    "Apreciando la gráfica, vemos que tanto <b>Venezuela</b> como <b>Estados Unidos</b> Representan el 18.8% del total del círculo, y se ve claramente que el que más ha crecido, en terminos del <b>PIB</b>, ha sido <b>Colombia</b> casi llegando un 9% más que <b>EE.UU.</b>, si bien el gráfico presenta la información en manera de <b>Gráfica de Pastel</b>, éste no resulta muy atractivo a la vista, por lo que se harán una modificaciones.<br><br>\n",
    "* Primero se creará un arreglo con colores que nos ayudará asignar a cada uno de las partes el color que elijamos. <br>\n",
    "* Después haremos un arreglo para poner el grado de explosión de las partes (se explicará más adelante).<br>\n",
    "* Detro del método <b><i>.plot()</i></b> se agregará el parámetro <b>labels=None</b> para quitar las etiquetas de los países, <b>pctdistance=1.2</b> para que los porcentajes se muestren a una distancia de 1.2 del lugar donde estabab, <b>colors=colors_list</b> para asignar los colores de la lista, y <b>explode=explode_list</b> para crear un efecto de salido de la rebanda del gráfico.<br>\n",
    "* Ya por útlimo, con el método <b><i>.legend()</i></b> se mostrará las etiquetas de los paises en un formato de cuadro en la esquina superior izquierda.<br><br>\n",
    "\\* Nota: tanto los colores como el \"explode_list\" se asigna tomando en cuenta el índice que se ve en la tabla de los datos."
   ]
  },
  {
   "cell_type": "code",
   "execution_count": null,
   "metadata": {},
   "outputs": [],
   "source": [
    "colors_list = ['gold', 'yellowgreen', 'lightcoral', 'lightskyblue', 'red', 'pink'] # lista de colores\n",
    "explode_list = [0.05, 0, 0, 0, 0.05, 0.05] # Ratio para cada continente con el que compensar cada cuña..\n",
    "\n",
    "df_EVFJCC['Total'].plot(kind='pie',\n",
    "                            figsize=(15, 6),\n",
    "                            autopct='%1.1f%%', \n",
    "                            startangle=90,    \n",
    "                            shadow=True,       \n",
    "                            labels=None,         # quita las etiquetas\n",
    "                            pctdistance=1.2,    # da la distancia de las etiquetas autopct\n",
    "                            colors=colors_list,  # añade color\n",
    "                            explode=explode_list # resalta los tres continentes más pequeños\n",
    "                            )\n",
    "\n",
    "plt.title(\"Crecimiento acumulado del PIB de  1996 a 2015\", y=1.2) # se añade 1.2 a la altura del título de los autopct\n",
    "\n",
    "plt.axis('equal') \n",
    "\n",
    "plt.legend(labels=df_EVFJCC.index, loc='upper left') "
   ]
  },
  {
   "cell_type": "markdown",
   "metadata": {},
   "source": [
    "### Conclución"
   ]
  },
  {
   "cell_type": "markdown",
   "metadata": {},
   "source": [
    "Nosotros no nos debemos de basar únicamente en lo que nos da las herramientas, sino que debemos de invetigar más allá de éstas para volvernos unos expertos.<br><br>\n",
    "Los Gráficos de pastel representan muy bien los porcentajes, pero tenemos que tener en mente si es éso lo que queremos mostrar, y si acaso se vería mejor en otro tipo de gráfico."
   ]
  }
 ],
 "metadata": {
  "kernelspec": {
   "display_name": "Python 3",
   "language": "python",
   "name": "python3"
  },
  "language_info": {
   "codemirror_mode": {
    "name": "ipython",
    "version": 3
   },
   "file_extension": ".py",
   "mimetype": "text/x-python",
   "name": "python",
   "nbconvert_exporter": "python",
   "pygments_lexer": "ipython3",
   "version": "3.7.1"
  }
 },
 "nbformat": 4,
 "nbformat_minor": 2
}
