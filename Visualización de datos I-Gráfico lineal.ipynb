{
 "cells": [
  {
   "cell_type": "markdown",
   "metadata": {},
   "source": [
    "# Gráfico lineal"
   ]
  },
  {
   "cell_type": "markdown",
   "metadata": {},
   "source": [
    "### Breve introducción"
   ]
  },
  {
   "cell_type": "markdown",
   "metadata": {},
   "source": [
    "Varios somos los que ya hemos realizado un gráfico lineal, ya sea en la escuela con una regla o en Excel con la inserción de gráficos.<br>\n",
    "Pues bien, esta vez utilizaremos la implementación de <b>Python 3</b>, en conjunto de varias librerías que nos facilitarán el trabajo, y la ejecución de código a través de este <b>Jupyter Notebook</b>.<br><br>\n",
    "Espero que éste tutorial les sea útil para aprender a realizar este tipo de gráficos, y les recuerdo que éste es solo el primer tutorial de varios que realizaré con la finalidad de enseñarles.<br><br>\n",
    "<b>Comencemos</b>"
   ]
  },
  {
   "cell_type": "markdown",
   "metadata": {},
   "source": [
    "Primero se debe de importar las librerías <i><b>Matplotlib, Pandas y Numpy</b></i> las cuales se describe su función a continuación: <br><br>\n",
    "* <b>Matplotlib</b>, para la creación de gráficos (la parte escencial de éste curso). <br>\n",
    "* <b>Pandas</b>, se utiliza para la manipulación de información de archivos <i>CSV, Excel o Data Frames</i>.<br> \n",
    "* <b>Numpy</b>, con él se puedes realizar operaciones matemáticas más específicas que se mencionarán después."
   ]
  },
  {
   "cell_type": "code",
   "execution_count": null,
   "metadata": {},
   "outputs": [],
   "source": [
    "import matplotlib.pyplot as plt # gráficos\n",
    "import pandas as pd # datos\n",
    "import numpy as np # operaciones\n",
    "%matplotlib inline"
   ]
  },
  {
   "cell_type": "markdown",
   "metadata": {},
   "source": [
    "\\* <i><b>%matplotlib inline</b> se emplea aquí con la facilidad de que al momento de crear el gráfico podamos omitir la linea de código plt.show() que se explicará más adelante.</i>"
   ]
  },
  {
   "cell_type": "markdown",
   "metadata": {},
   "source": [
    "La lectura de los archivos se realizan gracias a la librería Pandas. Aquí abajo se emplea la función <b><i>.read_excel</i></b> para asignar el valor del archivo de los datos de desempleo en la variable <b>df_desempleo</b> utilizando el link del banco mundial como primer argumento. El segundo argumento <b><i>sheet_name</i></b> se refiere a la hoja que utiliza del archivo de excel en linea. Por último el argumento <b><i>skiprows</i></b> para evitar la información sin relevancia que está en la hoja de cálculo.<br><br>\n",
    "\\* <i>El método <b>skipfooter</b> se puede utilizar si es que se quiere evitar filas al último de la hoja.</i>"
   ]
  },
  {
   "cell_type": "code",
   "execution_count": null,
   "metadata": {},
   "outputs": [],
   "source": [
    "df_desempleo = pd.read_excel('http://api.worldbank.org/v2/es/indicator/SL.UEM.TOTL.ZS?downloadformat=excel', # link \n",
    "                      sheet_name = \"Data\", # hoja\n",
    "                      skiprows = range(3), # brinco\n",
    "                      #skipfooter = 2  salto de pie\n",
    "                            )"
   ]
  },
  {
   "cell_type": "markdown",
   "metadata": {},
   "source": [
    "El siguiente método <b><i>.head()</i></b> desplegará los primeros 5 datos que se encuentran dentro del Data Frame que hemos descargado. Esto con la finalidad de saber si se tienen los datos correctamente."
   ]
  },
  {
   "cell_type": "code",
   "execution_count": null,
   "metadata": {
    "scrolled": true
   },
   "outputs": [],
   "source": [
    "df_desempleo.head()"
   ]
  },
  {
   "cell_type": "markdown",
   "metadata": {},
   "source": [
    "Al comprobar que nuestros datos se encuentran bien, realizaremos la llamada a la propiedad <b><i>.columns.values</i></b> para comprobar que tiene de nombre cada columna, y a la propiedad <b><i>.shape</i></b> para ver las dimensiones que cuenta la variable <b>df_desempleo</b>."
   ]
  },
  {
   "cell_type": "code",
   "execution_count": null,
   "metadata": {},
   "outputs": [],
   "source": [
    "print(df_desempleo.columns.values)\n",
    "print(df_desempleo.shape)"
   ]
  },
  {
   "cell_type": "markdown",
   "metadata": {},
   "source": [
    "Se puede visualizar los nombres claros que tienen cada columna, y debajo se muestra que tenemos un total de 264 filas y 62 columnas.<br>\n",
    "A continuación se utilizará el método <b><i>.drop()</i></b> para quitar los campos <b> Country Code</b>, <b>Indicator Name</b>, e <b>Indicador Code</b> al no ser relevantes para este trabajo; Los cuales irán como primer parámetro del método antes mencionado. El siguiente parámetro es <b><i>axis=1</i></b> al referirnos a las columnas. Por último el parámetro <b><i>inplace=True</i></b> que significa que se guardará la modificación del Data Frame.<br><br>\n",
    "\\*<i>Si se quiere eliminar una fila, en vez de columna, se utilizará el parámetro <b>axis=0</b></i>."
   ]
  },
  {
   "cell_type": "code",
   "execution_count": null,
   "metadata": {},
   "outputs": [],
   "source": [
    "df_desempleo.drop([\"Country Code\", \"Indicator Name\", \"Indicator Code\" ], axis=1, inplace=True) # quita los valores de las columnas nombradas\n",
    "df_desempleo.head()"
   ]
  },
  {
   "cell_type": "markdown",
   "metadata": {},
   "source": [
    "Como se nota, tenemos varios años que no tienen datos algunos. Para ser específico, si se mira el excel, se puede observar que hasta el <b>año 1991</b> se empiezan a registrar los datos del desempleo en la hoja. Por lo que utilaremos las siguientes lineas de código: <br><br>\n",
    "* <b>years_empty = list(map(str, range(1960, 1991)))</b>, se utilizará con la finalidad de hacer una lista con los datos que se van a quitar del Data Frame <b> de 1960</b> hasta antes de <b>1991</b><br>\n",
    "* <b>for year in years_empty:</b><br>\n",
    "    <b>&nbsp;&nbsp;df_desempleo.drop([year], axis=1, inplace=True)</b>, es empleado para realizar varias llamadas al método <i><b>.drop</b></i> he ir quitando de una a una las columnas.<br>\n",
    "* <b>.head()</b>, y por último se utiliza este método para ver si se eliminaron bien."
   ]
  },
  {
   "cell_type": "code",
   "execution_count": null,
   "metadata": {},
   "outputs": [],
   "source": [
    "years_empty = list(map(str, range(1960, 1991)))"
   ]
  },
  {
   "cell_type": "code",
   "execution_count": null,
   "metadata": {},
   "outputs": [],
   "source": [
    "for year in years_empty:\n",
    "    df_desempleo.drop([year], axis=1, inplace=True)\n",
    "df_desempleo.head()\n"
   ]
  },
  {
   "cell_type": "markdown",
   "metadata": {},
   "source": [
    "Otro problema que se presenta es esos valores <b>NaN</b> que significan valores nulos, los cuales eliminaremos con el método <b><i>.dropna()</i></b> para eliminar las filas con valores núlos; Y también mostraremos la infornación de nuevo con <b><i>.head()</i></b>, agregando debajo el método <b><i>.tail()</i></b> el cual nos mostrará los últimos 5 registros de la variable."
   ]
  },
  {
   "cell_type": "code",
   "execution_count": null,
   "metadata": {},
   "outputs": [],
   "source": [
    "df_desempleo.dropna(inplace=True)\n",
    "df_desempleo.head()"
   ]
  },
  {
   "cell_type": "code",
   "execution_count": null,
   "metadata": {},
   "outputs": [],
   "source": [
    "df_desempleo.tail()"
   ]
  },
  {
   "cell_type": "markdown",
   "metadata": {},
   "source": [
    "Si bien hemos comprobado de manera visual que tanto los 5 registros de arriba como abajo no tienen ningún valor <b>Nulo</b> (Nan), utilizaremos el método <b><i>.isnull().sum()</i></b> para ver el número de núlos que contiene cada columna."
   ]
  },
  {
   "cell_type": "code",
   "execution_count": null,
   "metadata": {},
   "outputs": [],
   "source": [
    "df_desempleo.isnull().sum()"
   ]
  },
  {
   "cell_type": "markdown",
   "metadata": {},
   "source": [
    "Como se puede ver en tantos 0, nuestro Data Frame se encuentra libre de valor <b>Nulo</b>.<br><br>\n",
    "También, al ser un tutorial en Español, se le cambiará el nombre de la columna <b>Country Name</b> por <b>País</b> con el método <b><i>.rename()</i></b> al cual le pasaremos el argumento <b>columns={}</b> a el nombre de la columna, dos puntos y el nuevo nombre que le pondremos. Además del argumento <b>inplace=True</b> para que se mantenga el cambio."
   ]
  },
  {
   "cell_type": "code",
   "execution_count": null,
   "metadata": {},
   "outputs": [],
   "source": [
    "df_desempleo.rename(columns={'Country Name':'País'}, inplace=True)"
   ]
  },
  {
   "cell_type": "markdown",
   "metadata": {},
   "source": [
    "A continuación se utilizará el método <b><i>.set_index()</i></b> con el parámetro <b>País</b> para utilzar esa columna como nuestro índice, en vez de los número que aparecen. Tambien volveremos a imprimir las <b>dimensiones</b> con las que contamos ahora."
   ]
  },
  {
   "cell_type": "code",
   "execution_count": null,
   "metadata": {},
   "outputs": [],
   "source": [
    "df_desempleo.set_index('País', inplace=True) # pone la columna seleccionada como index"
   ]
  },
  {
   "cell_type": "code",
   "execution_count": null,
   "metadata": {},
   "outputs": [],
   "source": [
    "print(df_desempleo.shape)"
   ]
  },
  {
   "cell_type": "markdown",
   "metadata": {},
   "source": [
    "Nuestras filas se redujeron de <b>264 a 233</b> y las columnas de <b>62 a 27</b>.<br><br>\n",
    "Utilizaremos la propiedad <b><i>.columns</i></b> y la función <b><i>list(map(int, df_desempleo.columns))</i></b> para hacer que las columnas de años cambien a tipo <b>Entero</b> (Int), esto se explicará el por qué más adelante."
   ]
  },
  {
   "cell_type": "code",
   "execution_count": null,
   "metadata": {},
   "outputs": [],
   "source": [
    "df_desempleo.columns = list(map(int, df_desempleo.columns))"
   ]
  },
  {
   "cell_type": "markdown",
   "metadata": {},
   "source": [
    "Ya casi para acabar, utilizaremos las propiedades <b><i>.columns.values</i></b> para ver los nombres de las columnas que se tiene en el Data Frame.<br><br>\n",
    "\\* Tip: si quieres saber si se encuentra en tipo <b>texto</b> o <b>numérico</b>, puedes corroborralo con <b><i>las comillas</i></b> que, a falta de ellas, será un dato numérico, y viceversa con el tipo texto."
   ]
  },
  {
   "cell_type": "code",
   "execution_count": null,
   "metadata": {},
   "outputs": [],
   "source": [
    "print(df_desempleo.columns.values)"
   ]
  },
  {
   "cell_type": "markdown",
   "metadata": {},
   "source": [
    "Llegando a este punto podremos hacer nuestro gráfico con el método <b><i>.plot()</i></b> utilizando como parámetro de entrada <b><i>kind='line'</i></b> el cual le dice de que <b>tipo</b> de gráfico será, que en nuestro caso será un gráfico lineal.<br>\n",
    "&nbsp; &nbsp; Utilizaremos <b><i>plt.title</i></b>, <b><i>plt.ylabel</i></b> y <b><i>plt.xlabel</i></b> para decirle a la librería <b><i>matplotlib.pyplot</i></b> que nos agrege un título, una etiqueta en el eje de <b>Y</b> y una etiqueta en el eje de <b>X</b>.<br><br>\n",
    "\\*Nota: si hemos utilizado la intrucción <b><i>%matplotlib inline</i></b>, tendremos que agregar la linea <b><i>plt.show()</i></b> para que nos muestre el gráfico creado."
   ]
  },
  {
   "cell_type": "code",
   "execution_count": null,
   "metadata": {},
   "outputs": [],
   "source": [
    "df_desempleo.plot(kind='line')\n",
    "\n",
    "plt.title('Evolución de tasa de desempleo 1991 - 2017')\n",
    "plt.ylabel('Tasa de desempleo')\n",
    "plt.xlabel('Años')"
   ]
  },
  {
   "cell_type": "markdown",
   "metadata": {},
   "source": [
    "<b>¡Algo ha salido mal!</b>.<br>\n",
    "Si se lee bien las etiquetas, notaremos que los datos representan los años, en vez de los países. Por lo cual vamos a transponer los datos para que los datos concuerden con el método <b><i>.transpose()</i></b>.<br><br>\n",
    "\\* Transponer significa voltear el Data Frame (columnas por filas y viceversa), para que se vea el gráfico mejor."
   ]
  },
  {
   "cell_type": "code",
   "execution_count": null,
   "metadata": {},
   "outputs": [],
   "source": [
    "df_desempleo = df_desempleo.transpose()"
   ]
  },
  {
   "cell_type": "markdown",
   "metadata": {},
   "source": [
    "Y ahora implementare las mismas lineas de código que utilizamos con anterioridad para ver el gráfico."
   ]
  },
  {
   "cell_type": "code",
   "execution_count": null,
   "metadata": {},
   "outputs": [],
   "source": [
    "df_desempleo.plot(kind='line')\n",
    "\n",
    "plt.title('Evolución de tasa de desempleo 1991 - 2017')\n",
    "plt.ylabel('Tasa de desempleo')\n",
    "plt.xlabel('Años')"
   ]
  },
  {
   "cell_type": "markdown",
   "metadata": {},
   "source": [
    "<b>¿Otro problema?</b>.<br>\n",
    "Si se observa a detalle, podemos ver que la etiqueta de los paises está por encima de nuestro gráfico realizado. Por lo cual utilizaremos el método <b><i>.legend</i></b> con el valor <b>labels=\"\"</b> para quitar las etiquetas, y el parámetro <b><i>loc='upper left'</i></b> para posicionar la etiqueta en el lado superior izquierdo."
   ]
  },
  {
   "cell_type": "code",
   "execution_count": null,
   "metadata": {},
   "outputs": [],
   "source": [
    "df_desempleo.plot(kind='line')\n",
    "\n",
    "plt.title('Evolución de tasa de desempleo 1991 - 2017')\n",
    "plt.ylabel('Tasa de desempleo')\n",
    "plt.xlabel('Años')\n",
    "plt.legend(labels=\"\", loc='upper left')"
   ]
  },
  {
   "cell_type": "markdown",
   "metadata": {},
   "source": [
    "Bien, ésta vez hemos podido ver la gráfica con todos sus datos. Pero si no mal se acuerdan el número de países que se encontraban en nuestro Data Frame era de 233 países.<br><br>\n",
    "<b>Menos es más</b>.<br>\n",
    "Si bien hemos visto toda la información, esto no nos sirve ya que no representa nada como un gráfico de verdad debe de hacer <b>ENTENDIBLE A SIMPLE VISTA</b> por lo que solo utilizaremos la información de 3 paises.<br>\n",
    "&nbsp; Pero primero necesitamos transponer el Data Frame para poder interactuar con los países de mejor manera."
   ]
  },
  {
   "cell_type": "code",
   "execution_count": null,
   "metadata": {},
   "outputs": [],
   "source": [
    "df_desempleo = df_desempleo.transpose()"
   ]
  },
  {
   "cell_type": "code",
   "execution_count": null,
   "metadata": {},
   "outputs": [],
   "source": [
    "df_desempleo.head()"
   ]
  },
  {
   "cell_type": "markdown",
   "metadata": {},
   "source": [
    "Se creara primero una lista con los años de <b>1991</b> a antes del <b>2018</b> para poder acceder a sus columnas. Esto a través del siguiente código."
   ]
  },
  {
   "cell_type": "code",
   "execution_count": null,
   "metadata": {},
   "outputs": [],
   "source": [
    "years = range(1991, 2018)"
   ]
  },
  {
   "cell_type": "markdown",
   "metadata": {},
   "source": [
    "Ya con ésto, crearemos un nuevo Data Frame llamado <b><i>df_MBS</i></b> el cual contendrá los datos de <b>México</b>, <b>Brasil</b> y <b>Suiza</b>. Se utiliza el método <b><i>.loc[]</i></b> para localizar los datos que tendremos dentro de nuestra variable. Hay que resaltar que se utilizan parentesis cuadrados para acceder a los datos, poniendo uno para los datos de las filas, y otro para las columnas que tomará."
   ]
  },
  {
   "cell_type": "code",
   "execution_count": null,
   "metadata": {},
   "outputs": [],
   "source": [
    "df_MBS = df_desempleo.loc[['México', 'Brasil', 'Suiza'], years]"
   ]
  },
  {
   "cell_type": "markdown",
   "metadata": {},
   "source": [
    "Con ello realizado, se utilizará el método <b><i>.head()</i></b> para visualizar los datos que se tienen en nuestra nueva variable."
   ]
  },
  {
   "cell_type": "code",
   "execution_count": null,
   "metadata": {},
   "outputs": [],
   "source": [
    "df_MBS.head()"
   ]
  },
  {
   "cell_type": "markdown",
   "metadata": {},
   "source": [
    "Ya por último, hay que transponer la matriz creada y ponerle un título que más se adecúe con lo que se mostrará."
   ]
  },
  {
   "cell_type": "code",
   "execution_count": null,
   "metadata": {},
   "outputs": [],
   "source": [
    "df_MBS = df_MBS.transpose()"
   ]
  },
  {
   "cell_type": "code",
   "execution_count": null,
   "metadata": {},
   "outputs": [],
   "source": [
    "df_MBS.plot(kind='line',\n",
    "           figsize=(10, 7))\n",
    "\n",
    "plt.title('Evolución de tasa de desempleo 1991 - 2017 (México, Brasil y Suiza)')\n",
    "plt.ylabel('Tasa de desempleo')\n",
    "plt.xlabel('Años')"
   ]
  },
  {
   "cell_type": "markdown",
   "metadata": {},
   "source": [
    "### Conclusión de la gráfica."
   ]
  },
  {
   "cell_type": "markdown",
   "metadata": {},
   "source": [
    "Pdemos ver la alta tasa de desempleo que se ha tenido en <b>Brasil</b> durante los últimos años, y como ha crecido enormemente en años recientes. También se puede rescatar el como se compara la tasa de <b>Suiza</b> con la de <b>México</b> siendo ésta última menor por más increible que parezca."
   ]
  }
 ],
 "metadata": {
  "kernelspec": {
   "display_name": "Python 3",
   "language": "python",
   "name": "python3"
  },
  "language_info": {
   "codemirror_mode": {
    "name": "ipython",
    "version": 3
   },
   "file_extension": ".py",
   "mimetype": "text/x-python",
   "name": "python",
   "nbconvert_exporter": "python",
   "pygments_lexer": "ipython3",
   "version": "3.7.1"
  }
 },
 "nbformat": 4,
 "nbformat_minor": 2
}
